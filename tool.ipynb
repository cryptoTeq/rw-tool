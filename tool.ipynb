{
 "cells": [
  {
   "cell_type": "code",
   "execution_count": null,
   "metadata": {},
   "outputs": [],
   "source": [
    "from IPython.core.display import display, HTML\n",
    "display(HTML(\"<style>.container { width:100% !important; }</style>\"))\n",
    "\n",
    "import os\n",
    "import pandas as pd\n",
    "import numpy as np\n",
    "\n",
    "# system contants\n",
    "input_folder = \"input_files\"\n",
    "input_folder_path = os.path.join(os.curdir, input_folder)\n",
    "asset_prices = {\"xrp\":\"xrp-usd.csv\", \"doge\":\"doge-usd.csv\", \"ada\":\"ada-usd.csv\", \"eth\":\"eth-usd.csv\", \"btc\":\"btc-usd.csv\", \"cad\": \"cad\"}\n",
    "usd_to_cad_rate = 1.26\n",
    "#cad_bank_interest_rate = 0.005 _NOT_USED_YET\n",
    "\n",
    "investment_strategy = {\"xrp\": .2, \"doge\": .15, \"ada\":.15, \"eth\":.2, \"btc\": .3, \"cad\": 0}\n",
    "\n",
    "roundup_list = {}\n",
    "# roundup_list[\"rut_1\"] = 1\n",
    "roundup_list[\"rut_2\"] = 2\n",
    "# roundup_list[\"rut_3\"] = 3\n",
    "# roundup_list[\"rut_4\"] = 4\n",
    "# roundup_list[\"rut_5\"] = 5\n",
    "# roundup_list[\"rut_10\"] = 10"
   ]
  },
  {
   "cell_type": "markdown",
   "metadata": {},
   "source": [
    "# Calculate Roundups"
   ]
  },
  {
   "cell_type": "code",
   "execution_count": null,
   "metadata": {},
   "outputs": [],
   "source": [
    "def cibc_data_extractor(df):\n",
    "    result_df = df.copy()\n",
    "    result_df.columns = [\"date\", \"merchant\", \"spent\", \"paid\", \"card_number\"]\n",
    "    return result_df[[\"date\", \"spent\"]]"
   ]
  },
  {
   "cell_type": "code",
   "execution_count": null,
   "metadata": {},
   "outputs": [],
   "source": [
    "def clean_df(df,date_col_name = \"date\"):\n",
    "    result = df.dropna()\n",
    "    result[date_col_name] = np.array(result[date_col_name], dtype=np.datetime64)\n",
    "    result = result.set_index(date_col_name)\n",
    "    return result"
   ]
  },
  {
   "cell_type": "code",
   "execution_count": null,
   "metadata": {},
   "outputs": [],
   "source": [
    "def calc_roundups(df):\n",
    "    \n",
    "    def calc(row, max_amount):\n",
    "        spent = row[\"spent\"]\n",
    "        decimal = spent - int(spent)\n",
    "        return max_amount - decimal\n",
    "    \n",
    "    result = df.copy()\n",
    "    \n",
    "    for rut in roundup_list.keys():\n",
    "        result[rut] = df.apply(lambda row: calc(row, roundup_list[rut]), axis=1)\n",
    "    return result"
   ]
  },
  {
   "cell_type": "code",
   "execution_count": null,
   "metadata": {},
   "outputs": [],
   "source": [
    "def sort_result(df):\n",
    "    return df.sort_values(by=[\"date\"], ascending=True)\n",
    "\n",
    "def roundups_cumsum_col_name(rut_num):\n",
    "    return rut_num + \"_cumsum\"\n",
    "\n",
    "def calc_roundups_cumsum(df):\n",
    "    for rut in roundup_list.keys():\n",
    "        col_name = roundups_cumsum_col_name(rut)\n",
    "        df[col_name] = df[[rut]].cumsum()\n",
    "    return df\n",
    "    "
   ]
  },
  {
   "cell_type": "code",
   "execution_count": null,
   "metadata": {},
   "outputs": [],
   "source": [
    "def calc_user_roundups(bank_name, csv_filename):\n",
    "    bank_report_readers = {\"cibc\": cibc_data_extractor}\n",
    "    extractor = bank_report_readers[bank_name]\n",
    "    statement_file_path = os.path.join(input_folder_path, csv_filename)\n",
    "    data = pd.read_csv(statement_file_path)\n",
    "    extracted_bank_data = extractor(data)\n",
    "    cleaned_bank_data = clean_df(extracted_bank_data)\n",
    "    result = calc_roundups_cumsum(sort_result(calc_roundups(cleaned_bank_data)))\n",
    "    return result\n",
    "\n",
    "def cad_price_data(rows_num, date_col_data, date_col_name):\n",
    "    cols = [\"Open\", \"High\", \"Low\", \"Close\"]\n",
    "    data = np.full((rows_num, 4), 1 / usd_to_cad_rate)\n",
    "    result = pd.DataFrame(data=data, columns=cols)\n",
    "    result[date_col_name] = date_col_data\n",
    "    return result"
   ]
  },
  {
   "cell_type": "markdown",
   "metadata": {},
   "source": [
    "# Read Crypto Data"
   ]
  },
  {
   "cell_type": "code",
   "execution_count": null,
   "metadata": {},
   "outputs": [],
   "source": [
    "def asset_avg_price_col_name_for(asset_name):\n",
    "    return asset_name + \"_avg_price\"\n",
    "\n",
    "def asset_bought_col_name_for(asset_name, rut_num):\n",
    "    return asset_name + \"_\" + rut_num + \"_bought\"\n",
    "\n",
    "def asset_cumsum_col_name_for(asset_name, rut_num):\n",
    "    return asset_name + \"_\" + rut_num + \"_cumsum\"\n",
    "\n",
    "def asset_daily_value_col_name_for(asset_name, rut_num):\n",
    "    return \"total_\" + asset_name + \"_\" + rut_num + \"_value\"\n",
    "\n",
    "def portfolio_return_col_name_for(rut_num):\n",
    "    return \"portfolio_retrun_\" + rut_num"
   ]
  },
  {
   "cell_type": "code",
   "execution_count": null,
   "metadata": {},
   "outputs": [],
   "source": [
    "def read_asset_prices():\n",
    "    result = {}\n",
    "    df_rows_count = 0\n",
    "    date_col_data = None\n",
    "\n",
    "    def daily_average_for(df, asset_name):\n",
    "        df[asset_name + \"_avg_price\"] = df[[\"Open\", \"High\", \"Low\", \"Close\"]].mean(axis=1)\n",
    "        df[asset_name + \"_avg_price\"] = df[asset_name + \"_avg_price\"] * usd_to_cad_rate\n",
    "        return df[[asset_avg_price_col_name_for(asset_name), \"date\"]]\n",
    "\n",
    "    for asset_name in asset_prices.keys():\n",
    "        if asset_name == \"cad\":\n",
    "            continue\n",
    "        data = pd.read_csv(os.path.join(input_folder_path, asset_prices[asset_name]))\n",
    "        data = data.rename(columns={\"Date\":\"date\"})\n",
    "        tmp = daily_average_for(data, asset_name)\n",
    "        date_col_data = tmp[\"date\"]\n",
    "        tmp = clean_df(tmp)\n",
    "        df_rows_count = tmp.shape[0]\n",
    "        result[asset_name] = tmp\n",
    "        \n",
    "    # add CAD asset Dataset\n",
    "    cad_data = cad_price_data(df_rows_count, date_col_data, \"date\")\n",
    "    tmp = daily_average_for(cad_data, \"cad\")\n",
    "    tmp = clean_df(tmp)\n",
    "    result[\"cad\"] = tmp\n",
    "\n",
    "    return result\n"
   ]
  },
  {
   "cell_type": "markdown",
   "metadata": {},
   "source": [
    "# Joining Crypto Data"
   ]
  },
  {
   "cell_type": "code",
   "execution_count": null,
   "metadata": {},
   "outputs": [],
   "source": [
    "def join_roudups_with_crypto(crypto_prices_dict, roundups_df):\n",
    "    result = roundups_df\n",
    "    for asset_name in asset_prices.keys():\n",
    "        result = result.join(crypto_prices_dict[asset_name], on=[\"date\"])\n",
    "    return result"
   ]
  },
  {
   "cell_type": "code",
   "execution_count": null,
   "metadata": {},
   "outputs": [],
   "source": [
    "def buy_assets(joined_df):\n",
    "    result = joined_df\n",
    "    for asset_name in asset_prices.keys():\n",
    "        avg_price_col = asset_avg_price_col_name_for(asset_name)\n",
    "        for rut in roundup_list.keys():\n",
    "            asset_bought_col = asset_bought_col_name_for(asset_name, rut)\n",
    "            investment_strategy_percentage = investment_strategy[asset_name]\n",
    "            result[asset_bought_col] = (result[rut] * investment_strategy_percentage) / result[avg_price_col]\n",
    "    return result\n",
    "\n",
    "def calc_assets_cumsum(joined_df):\n",
    "    result = joined_df\n",
    "    for asset_name in asset_prices.keys():\n",
    "        for rut in roundup_list.keys():\n",
    "            asset_bought_col = asset_bought_col_name_for(asset_name, rut)\n",
    "            asset_cumsum_col = asset_cumsum_col_name_for(asset_name, rut)\n",
    "            result[asset_cumsum_col] = result[[asset_bought_col]].cumsum()\n",
    "    return result\n",
    "\n",
    "def calc_assets_value_cumsum(joined_df):\n",
    "    result = joined_df\n",
    "    for asset_name in asset_prices.keys():\n",
    "        for rut in roundup_list.keys():\n",
    "            asset_cumsum_col = asset_cumsum_col_name_for(asset_name, rut)\n",
    "            avg_price_col = asset_avg_price_col_name_for(asset_name)\n",
    "            asset_value_col = asset_daily_value_col_name_for(asset_name, rut)\n",
    "            result[asset_value_col] = result[asset_cumsum_col] * result[avg_price_col]\n",
    "    return result\n",
    "    \n",
    "def calc_protfolio_return(df):\n",
    "    result = df\n",
    "    for rut in roundup_list.keys():\n",
    "        portfolio_return_col = portfolio_return_col_name_for(rut)\n",
    "        tmp = 0\n",
    "        \n",
    "        for asset_name in asset_prices.keys():\n",
    "            asset_value_col = asset_daily_value_col_name_for(asset_name, rut)\n",
    "            tmp += result[asset_value_col]\n",
    "            \n",
    "        result[portfolio_return_col] = tmp\n",
    "        \n",
    "    return result"
   ]
  },
  {
   "cell_type": "markdown",
   "metadata": {},
   "source": [
    "# Main:"
   ]
  },
  {
   "cell_type": "code",
   "execution_count": null,
   "metadata": {},
   "outputs": [],
   "source": [
    "def main(bank_name, statement_csv_filename):\n",
    "    result = None\n",
    "    roundups = calc_user_roundups(bank_name, statement_csv_filename)\n",
    "    roundups.sum()\n",
    "    \n",
    "    crypto_prices = read_asset_prices()\n",
    "    roundups_joined_crypto = join_roudups_with_crypto(crypto_prices, roundups)\n",
    "    bought_assets = buy_assets(roundups_joined_crypto)\n",
    "    cumulative_assets = calc_assets_cumsum(bought_assets)\n",
    "    cumulative_asset_value = calc_assets_value_cumsum(cumulative_assets)\n",
    "    portfolio_return = calc_protfolio_return(cumulative_asset_value)\n",
    "    \n",
    "    result =  cumulative_asset_value\n",
    "    return result"
   ]
  },
  {
   "cell_type": "code",
   "execution_count": null,
   "metadata": {
    "scrolled": false
   },
   "outputs": [],
   "source": [
    "investment_result = main(\"cibc\", \"amir_cibc.csv\")"
   ]
  },
  {
   "cell_type": "markdown",
   "metadata": {},
   "source": [
    "# Charts"
   ]
  },
  {
   "cell_type": "code",
   "execution_count": null,
   "metadata": {},
   "outputs": [],
   "source": [
    "investment_result.tail(600)"
   ]
  },
  {
   "cell_type": "code",
   "execution_count": null,
   "metadata": {
    "scrolled": false
   },
   "outputs": [],
   "source": [
    "import matplotlib.pyplot as plt\n",
    "import matplotlib.ticker as ticker\n",
    "import seaborn as sns\n",
    "import numpy as np\n",
    "\n",
    "y_list = {\"rut_2_cumsum\":\"Cumulative Roundup Savings\", \"portfolio_retrun_rut_2\":\"Investment Strategy Return\"}\n",
    "plt.gcf().set_size_inches(25, 9)\n",
    "plt.grid(True)\n",
    "\n",
    "for y in y_list.keys():\n",
    "    y_label = y_list[y]\n",
    "    plt.plot(investment_result.index,\n",
    "                 investment_result[y], label=y_label)\n",
    "\n",
    "plt.legend()\n",
    "plt.ylabel(\"Canadian Dollar\")\n",
    "plt.show()"
   ]
  },
  {
   "cell_type": "code",
   "execution_count": null,
   "metadata": {},
   "outputs": [],
   "source": []
  },
  {
   "cell_type": "code",
   "execution_count": null,
   "metadata": {},
   "outputs": [],
   "source": []
  }
 ],
 "metadata": {
  "kernelspec": {
   "display_name": "Python 3.6.12 64-bit ('wg': conda)",
   "language": "python",
   "name": "python361264bitwgcondae6d39b3af2304e3abd7e73117ffbc740"
  },
  "language_info": {
   "codemirror_mode": {
    "name": "ipython",
    "version": 3
   },
   "file_extension": ".py",
   "mimetype": "text/x-python",
   "name": "python",
   "nbconvert_exporter": "python",
   "pygments_lexer": "ipython3",
   "version": "3.6.12"
  }
 },
 "nbformat": 4,
 "nbformat_minor": 4
}
